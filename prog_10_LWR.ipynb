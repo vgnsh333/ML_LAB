{
 "cells": [
  {
   "cell_type": "code",
   "execution_count": 6,
   "metadata": {},
   "outputs": [
    {
     "name": "stdout",
     "output_type": "stream",
     "text": [
      "Main\n",
      "     total_bill   tip     sex smoker   day    time  size\n",
      "0         16.99  1.01  Female     No   Sun  Dinner     2\n",
      "1         10.34  1.66    Male     No   Sun  Dinner     3\n",
      "2         21.01  3.50    Male     No   Sun  Dinner     3\n",
      "3         23.68  3.31    Male     No   Sun  Dinner     2\n",
      "4         24.59  3.61  Female     No   Sun  Dinner     4\n",
      "..          ...   ...     ...    ...   ...     ...   ...\n",
      "239       29.03  5.92    Male     No   Sat  Dinner     3\n",
      "240       27.18  2.00  Female    Yes   Sat  Dinner     2\n",
      "241       22.67  2.00    Male    Yes   Sat  Dinner     2\n",
      "242       17.82  1.75    Male     No   Sat  Dinner     2\n",
      "243       18.78  3.00  Female     No  Thur  Dinner     2\n",
      "\n",
      "[244 rows x 7 columns]\n"
     ]
    }
   ],
   "source": [
    "import matplotlib.pyplot as plt    \n",
    "import pandas as pd    \n",
    "import numpy as np       \n",
    "def kernel(point,xmat, k):        \n",
    "    m,n = np.shape(xmat)        \n",
    "    weights = np.mat(np.eye((m))) # eye - identity matrix\n",
    "    for j in range(m):            \n",
    "        diff = point - xmat[j]            \n",
    "        weights[j,j] = np.exp(diff*diff.T/(-2.0*k**2))         \n",
    "    return weights \n",
    "def localWeight(point,xmat,ymat,k):        \n",
    "     wei = kernel(point,xmat,k)        \n",
    "     W = (X.T*(wei*X)).I*(X.T*(wei*ymat.T))        \n",
    "     return W\n",
    "def localWeightRegression(xmat,ymat,k):        \n",
    "    m,n = np.shape(xmat)        \n",
    "    ypred = np.zeros(m)        \n",
    "    for i in range(m):            \n",
    "        ypred[i] = xmat[i]*localWeight(xmat[i],xmat,ymat,k)        \n",
    "    return ypred \n",
    "def graphPlot(X,ypred):            \n",
    "    sortindex = X[:,1].argsort(0) #argsort - index of the smallest  X = [[1. 16.01]] X[:,1] = [[16.01 ......]]\n",
    "    #Sortindex contains the sorted index array which will be used for ypred array\n",
    "    xsort = X[sortindex][:,0]\n",
    "    print('first 3 elements of xsort')\n",
    "    print(xsort[:3])\n",
    "    fig = plt.figure()        \n",
    "    plot = fig.add_subplot(1,1,1) # or 111 instead of 1,1,1 ; 111 = 1x1 grid and 1st plot        \n",
    "    plot.scatter(bill,tip, color='green')        \n",
    "    plot.plot(xsort[:,1],ypred[sortindex], color = 'red', linewidth=5)        \n",
    "    plt.xlabel('Total bill') \n",
    "    plt.ylabel('Tip')        \n",
    "    plt.show(); \n",
    " # load data points\n",
    "print('Main')\n",
    "data = pd.read_csv('P10_data10_tips.csv')\n",
    "print(data)"
   ]
  },
  {
   "cell_type": "code",
   "execution_count": 7,
   "metadata": {},
   "outputs": [
    {
     "name": "stdout",
     "output_type": "stream",
     "text": [
      "(1, 244)\n"
     ]
    }
   ],
   "source": [
    "bill = np.array(data.total_bill) # We use only Bill amount and Tips data\n",
    "tip  = np.array(data.tip)        \n",
    "mbill = np.mat(bill) # .mat will convert nd array is converted in 2D array    \n",
    "mtip = np.mat(tip)    \n",
    "m= np.shape(mbill)[1]\n",
    "print(np.shape(mbill))"
   ]
  },
  {
   "cell_type": "code",
   "execution_count": 8,
   "metadata": {},
   "outputs": [
    {
     "name": "stdout",
     "output_type": "stream",
     "text": [
      "[[ 1.   16.99]\n",
      " [ 1.   10.34]\n",
      " [ 1.   21.01]\n",
      " [ 1.   23.68]]\n"
     ]
    }
   ],
   "source": [
    "one = np.mat(np.ones(m))    \n",
    "X = np.hstack((one.T,mbill.T)) # 244 rows, 2 cols \n",
    "#X need transpose of the matrices of one and mbill to horizontally stack it\n",
    "print(X[:4]) #first 4 elements"
   ]
  },
  {
   "cell_type": "code",
   "execution_count": 9,
   "metadata": {},
   "outputs": [
    {
     "name": "stdout",
     "output_type": "stream",
     "text": [
      "first 3 elements of xsort\n",
      "[[1.   3.07]\n",
      " [1.   5.75]\n",
      " [1.   7.25]]\n"
     ]
    },
    {
     "data": {
      "image/png": "[encoded data removed]",
      "text/plain": [
       "<Figure size 432x288 with 1 Axes>"
      ]
     },
     "metadata": {
      "needs_background": "light"
     },
     "output_type": "display_data"
    }
   ],
   "source": [
    "ypred = localWeightRegression(X,mtip,2) # increase k to get smooth curves    \n",
    "graphPlot(X,ypred)"
   ]
  }
 ],
 "metadata": {
  "kernelspec": {
   "display_name": "Python 3",
   "language": "python",
   "name": "python3"
  },
  "language_info": {
   "codemirror_mode": {
    "name": "ipython",
    "version": 3
   },
   "file_extension": ".py",
   "mimetype": "text/x-python",
   "name": "python",
   "nbconvert_exporter": "python",
   "pygments_lexer": "ipython3",
   "version": "3.8.5"
  }
 },
 "nbformat": 4,
 "nbformat_minor": 4
}
