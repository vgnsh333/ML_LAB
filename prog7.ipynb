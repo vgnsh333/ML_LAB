{
 "cells": [
  {
   "cell_type": "code",
   "execution_count": 2,
   "metadata": {},
   "outputs": [
    {
     "name": "stderr",
     "output_type": "stream",
     "text": [
      "Finding Elimination Order: :   0%|                                                               | 0/7 [00:00<?, ?it/s]\n",
      "  0%|                                                                                            | 0/7 [00:00<?, ?it/s]\u001b[A\n",
      "Eliminating: chol:   0%|                                                                         | 0/7 [00:00<?, ?it/s]\u001b[A\n",
      "Eliminating: fbs:   0%|                                                                          | 0/7 [00:00<?, ?it/s]\u001b[A\n",
      "Eliminating: thalach:   0%|                                                                      | 0/7 [00:00<?, ?it/s]\u001b[A\n",
      "Eliminating: restecg:   0%|                                                                      | 0/7 [00:00<?, ?it/s]\u001b[A\n",
      "Eliminating: sex:   0%|                                                                          | 0/7 [00:00<?, ?it/s]\u001b[A\n",
      "Eliminating: trestbps:   0%|                                                                     | 0/7 [00:00<?, ?it/s]\u001b[A\n",
      "Eliminating: exang: 100%|███████████████████████████████████████████████████████████████| 7/7 [00:00<00:00, 224.03it/s]\u001b[A\n",
      "Finding Elimination Order: : 100%|██████████████████████████████████████████████████████| 7/7 [00:00<00:00, 224.03it/s]"
     ]
    },
    {
     "name": "stdout",
     "output_type": "stream",
     "text": [
      "Few examples from the dataset are given below\n",
      "    age  sex   cp  trestbps   chol  fbs  restecg  thalach  exang  oldpeak  \\\n",
      "0  63.0  1.0  1.0     145.0  233.0  1.0      2.0    150.0    0.0      2.3   \n",
      "1  67.0  1.0  4.0     160.0  286.0  0.0      2.0    108.0    1.0      1.5   \n",
      "2  67.0  1.0  4.0     120.0  229.0  0.0      2.0    129.0    1.0      2.6   \n",
      "3  37.0  1.0  3.0     130.0  250.0  0.0      0.0    187.0    0.0      3.5   \n",
      "4  41.0  0.0  2.0     130.0  204.0  0.0      2.0    172.0    0.0      1.4   \n",
      "\n",
      "   slope   ca thal  heartdisease  \n",
      "0    3.0  0.0  6.0             0  \n",
      "1    2.0  3.0  3.0             2  \n",
      "2    2.0  2.0  7.0             1  \n",
      "3    3.0  0.0  3.0             0  \n",
      "4    1.0  0.0  3.0             0  \n",
      "\n",
      "Attributes and datatypes\n",
      "age             float64\n",
      "sex             float64\n",
      "cp              float64\n",
      "trestbps        float64\n",
      "chol            float64\n",
      "fbs             float64\n",
      "restecg         float64\n",
      "thalach         float64\n",
      "exang           float64\n",
      "oldpeak         float64\n",
      "slope           float64\n",
      "ca               object\n",
      "thal             object\n",
      "heartdisease      int64\n",
      "dtype: object\n",
      "\n",
      "Learning CPDs using Maximum Likelihood Estimators...\n",
      "\n",
      "Inferencing with Bayesian Network:\n",
      "\n",
      "1.Probability of HeartDisease given Age=20\n",
      "+-----------------+---------------------+\n",
      "| heartdisease    |   phi(heartdisease) |\n",
      "+=================+=====================+\n",
      "| heartdisease(0) |              0.3788 |\n",
      "+-----------------+---------------------+\n",
      "| heartdisease(1) |              0.0725 |\n",
      "+-----------------+---------------------+\n",
      "| heartdisease(2) |              0.2202 |\n",
      "+-----------------+---------------------+\n",
      "| heartdisease(3) |              0.2931 |\n",
      "+-----------------+---------------------+\n",
      "| heartdisease(4) |              0.0355 |\n",
      "+-----------------+---------------------+\n",
      "\n",
      "2. Probability of HeartDisease given chol (Cholestoral) =100\n"
     ]
    },
    {
     "name": "stderr",
     "output_type": "stream",
     "text": [
      "\n",
      "C:\\Users\\vgnsh\\anaconda3\\lib\\site-packages\\pgmpy\\factors\\discrete\\DiscreteFactor.py:438: UserWarning: Found unknown state name. Trying to switch to using all state names as state numbers\n",
      "  warn(\n",
      "Finding Elimination Order: :   0%|                                                               | 0/7 [00:00<?, ?it/s]\n",
      "  0%|                                                                                            | 0/7 [00:00<?, ?it/s]\u001b[A\n",
      "Eliminating: fbs:   0%|                                                                          | 0/7 [00:00<?, ?it/s]\u001b[A\n",
      "Eliminating: thalach:   0%|                                                                      | 0/7 [00:00<?, ?it/s]\u001b[A\n",
      "Eliminating: restecg:   0%|                                                                      | 0/7 [00:00<?, ?it/s]\u001b[A\n",
      "Finding Elimination Order: : 100%|██████████████████████████████████████████████████████| 7/7 [00:00<00:00, 448.94it/s]\u001b[A\n",
      "\n",
      "Eliminating: sex:   0%|                                                                          | 0/7 [00:00<?, ?it/s]\u001b[A\n",
      "Eliminating: trestbps:   0%|                                                                     | 0/7 [00:00<?, ?it/s]\u001b[A\n",
      "Eliminating: exang: 100%|████████████████████████████████████████████████████████████████| 7/7 [00:00<00:00, 89.65it/s]\u001b[A"
     ]
    },
    {
     "name": "stdout",
     "output_type": "stream",
     "text": [
      "+-----------------+---------------------+\n",
      "| heartdisease    |   phi(heartdisease) |\n",
      "+=================+=====================+\n",
      "| heartdisease(0) |              1.0000 |\n",
      "+-----------------+---------------------+\n",
      "| heartdisease(1) |              0.0000 |\n",
      "+-----------------+---------------------+\n",
      "| heartdisease(2) |              0.0000 |\n",
      "+-----------------+---------------------+\n",
      "| heartdisease(3) |              0.0000 |\n",
      "+-----------------+---------------------+\n",
      "| heartdisease(4) |              0.0000 |\n",
      "+-----------------+---------------------+\n"
     ]
    },
    {
     "name": "stderr",
     "output_type": "stream",
     "text": [
      "\n"
     ]
    }
   ],
   "source": [
    "import numpy as np\n",
    "import pandas as pd\n",
    "import csv\n",
    "from pgmpy.estimators import MaximumLikelihoodEstimator\n",
    "from pgmpy.models import BayesianModel\n",
    "from pgmpy.inference import VariableElimination\n",
    "#Read the attributes\n",
    "lines = list(csv.reader(open('P7_data7_heart.csv', 'r')));\n",
    "#attributes = lines[0]\n",
    "#print(attributes)\n",
    "attributes = ['age', 'sex', 'cp', 'trestbps', 'chol', 'fbs', 'restecg', 'thalach', 'exang','oldpeak', 'slope', 'ca', 'thal', 'heartdisease']\n",
    "#Read Cleveland Heart dicease data\n",
    "heartDisease = pd.read_csv('P7_data7_heart.csv', names = attributes)\n",
    "heartDisease = heartDisease.replace('?', np.nan)\n",
    "# Display the data\n",
    "print('Few examples from the dataset are given below')\n",
    "print(heartDisease.head())\n",
    "print('\\nAttributes and datatypes')\n",
    "print(heartDisease.dtypes)\n",
    "# Model Baysian Network\n",
    "model = BayesianModel([('age', 'trestbps'), ('age', 'fbs'), ('sex', 'trestbps'), ('sex', 'trestbps'),\n",
    "('exang', 'trestbps'),('trestbps','heartdisease'),('fbs','heartdisease'),\n",
    "('heartdisease','restecg'),('heartdisease','thalach'),('heartdisease','chol')])\n",
    "# Learning CPDs using Maximum Likelihood Estimators\n",
    "print('\\nLearning CPDs using Maximum Likelihood Estimators...');\n",
    "model.fit(heartDisease, estimator=MaximumLikelihoodEstimator)\n",
    "# Inferencing with Bayesian Network\n",
    "print('\\nInferencing with Bayesian Network:')\n",
    "HeartDisease_infer = VariableElimination(model)\n",
    "# Computing the probability of bronc given smoke.\n",
    "print('\\n1.Probability of HeartDisease given Age=20')\n",
    "q = HeartDisease_infer.query(variables=['heartdisease'], evidence={'age': 68}, joint=False)\n",
    "print(q['heartdisease'])\n",
    "print('\\n2. Probability of HeartDisease given chol (Cholestoral) =100')\n",
    "q = HeartDisease_infer.query(variables=['heartdisease'], evidence={'chol': 150}, joint=False)\n",
    "print(q['heartdisease'])\n"
   ]
  },
  {
   "cell_type": "code",
   "execution_count": null,
   "metadata": {},
   "outputs": [],
   "source": []
  }
 ],
 "metadata": {
  "kernelspec": {
   "display_name": "Python 3",
   "language": "python",
   "name": "python3"
  },
  "language_info": {
   "codemirror_mode": {
    "name": "ipython",
    "version": 3
   },
   "file_extension": ".py",
   "mimetype": "text/x-python",
   "name": "python",
   "nbconvert_exporter": "python",
   "pygments_lexer": "ipython3",
   "version": "3.8.5"
  }
 },
 "nbformat": 4,
 "nbformat_minor": 4
}
