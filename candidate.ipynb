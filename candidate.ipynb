{
 "cells": [
  {
   "cell_type": "code",
   "execution_count": 17,
   "metadata": {},
   "outputs": [
    {
     "name": "stdout",
     "output_type": "stream",
     "text": [
      "[['?', '?', '?', '?', '?', '?'], ['?', '?', '?', '?', '?', '?'], ['?', '?', '?', '?', '?', '?'], ['?', '?', '?', '?', '?', '?'], ['?', '?', '?', '?', '?', '?'], ['?', '?', '?', '?', '?', '?']]\n",
      "['sunny', 'warm', 'normal', 'strong', 'warm', 'same']\n",
      "[['?', '?', '?', '?', '?', '?'], ['?', '?', '?', '?', '?', '?'], ['?', '?', '?', '?', '?', '?'], ['?', '?', '?', '?', '?', '?'], ['?', '?', '?', '?', '?', '?'], ['?', '?', '?', '?', '?', '?']]\n",
      "['sunny', 'warm', 'normal', 'strong', 'warm', 'same']\n",
      "[['?', '?', '?', '?', '?', '?'], ['?', '?', '?', '?', '?', '?'], ['?', '?', '?', '?', '?', '?'], ['?', '?', '?', '?', '?', '?'], ['?', '?', '?', '?', '?', '?'], ['?', '?', '?', '?', '?', '?']]\n",
      "['sunny', 'warm', '?', 'strong', 'warm', 'same']\n",
      "[['?', '?', '?', '?', '?', '?'], ['?', '?', '?', '?', '?', '?'], ['?', '?', '?', '?', '?', '?'], ['?', '?', '?', '?', '?', '?'], ['?', '?', '?', '?', '?', '?'], ['?', '?', '?', '?', '?', '?']]\n",
      "['sunny', 'warm', '?', 'strong', 'warm', 'same']\n",
      "[['sunny', '?', '?', '?', '?', '?'], ['?', 'warm', '?', '?', '?', '?'], ['?', '?', '?', '?', '?', '?'], ['?', '?', '?', '?', '?', '?'], ['?', '?', '?', '?', '?', '?'], ['?', '?', '?', '?', '?', 'same']]\n",
      "['sunny', 'warm', '?', 'strong', '?', '?']\n",
      "[['sunny', '?', '?', '?', '?', '?'], ['?', 'warm', '?', '?', '?', '?'], ['?', '?', '?', '?', '?', '?'], ['?', '?', '?', '?', '?', '?'], ['?', '?', '?', '?', '?', '?'], ['?', '?', '?', '?', '?', '?']]\n",
      "\n",
      " final specific hypothesis:\n",
      " ['sunny', 'warm', '?', 'strong', '?', '?']\n",
      "\n",
      " final general hypothesis:\n",
      " [['sunny', '?', '?', '?', '?', '?'], ['?', 'warm', '?', '?', '?', '?']]\n"
     ]
    }
   ],
   "source": [
    "import csv\n",
    "a=[]\n",
    "with open(\"weather.csv\") as csfile:\n",
    "    reader=csv.reader(csfile)\n",
    "    for row in reader:\n",
    "        a.append(row)\n",
    "    s=a[1][:-1] #skips the header row and takes the next row\n",
    "    \n",
    "    num_attributes=len(a[0])-1\n",
    "    g=[['?' for i in range(num_attributes)] for j in range (num_attributes)]\n",
    "    print(g)\n",
    "    \n",
    "    for i in a:\n",
    "        if(i[-1]==\"yes\"):         #specficity.\n",
    "            for x in range(num_attributes):\n",
    "                if(i[x]!=s[x]):\n",
    "                    s[x]=\"?\"\n",
    "                    g[x][x]=\"?\"\n",
    "\n",
    "        if(i[-1]==\"no\"):\n",
    "            for x in range(num_attributes):   #generalize\n",
    "                if(i[x]!=s[x]):\n",
    "                    g[x][x]=s[x]\n",
    "                else:\n",
    "                    g[x][x]=\"?\"\n",
    "        print(s)\n",
    "        print(g)\n",
    "    \n",
    "    gh=[]\n",
    "    for i in g:\n",
    "        for x in i:\n",
    "            if x!='?':\n",
    "                gh.append(i)\n",
    "                break\n",
    "    print(\"\\n final specific hypothesis:\\n\",s)\n",
    "    print(\"\\n final general hypothesis:\\n\",gh)"
   ]
  },
  {
   "cell_type": "code",
   "execution_count": null,
   "metadata": {},
   "outputs": [],
   "source": []
  }
 ],
 "metadata": {
  "kernelspec": {
   "display_name": "Python 3",
   "language": "python",
   "name": "python3"
  },
  "language_info": {
   "codemirror_mode": {
    "name": "ipython",
    "version": 3
   },
   "file_extension": ".py",
   "mimetype": "text/x-python",
   "name": "python",
   "nbconvert_exporter": "python",
   "pygments_lexer": "ipython3",
   "version": "3.8.5"
  }
 },
 "nbformat": 4,
 "nbformat_minor": 4
}
