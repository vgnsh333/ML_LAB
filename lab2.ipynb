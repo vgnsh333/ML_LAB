{
 "cells": [
  {
   "cell_type": "code",
   "execution_count": 70,
   "metadata": {},
   "outputs": [
    {
     "name": "stdout",
     "output_type": "stream",
     "text": [
      "initial specific hypothesis is:  ['0', '0', '0']\n",
      "initial general hypothesis is:  [['?', '?', '?']]\n",
      "S[0]= ['0', '0', '0']\n",
      "G[0]= [['?', '?', '?']]\n",
      "S[1]= ['0', '0', '0']\n",
      "G[1]= [['?', '?', '?'], ['0', '?', '?'], ['?', '0', '?'], ['?', '?', '0']]\n",
      "S[2]= ['0', '0', '0']\n",
      "G[2]= [['?', '?', '?'], ['0', '?', '?'], ['?', '0', '?'], ['?', '?', '0']]\n",
      "S[3]= ['Small', 'Red', 'Circle']\n",
      "G[3]= [['?', '?', '?'], ['0', '?', '?'], ['?', '0', '?'], ['?', '?', '0']]\n",
      "S[4]= ['Small', 'Red', 'Circle']\n",
      "G[4]= [['?', '?', '?'], ['0', '?', '?'], ['?', '0', '?'], ['?', '?', '0'], ['Small', '?', '?'], ['?', 'Red', '?']]\n",
      "S[5]= ['Small', '?', 'Circle']\n",
      "G[5]= [['?', '?', '?'], ['0', '?', '?'], ['?', '?', '0'], ['Small', '?', '?']]\n",
      "\n",
      "Final hypothesis is:  ['Small', '?', 'Circle']\n",
      "G[5]= [['0', '?', '?'], ['?', '?', '0'], ['Small', '?', '?']]\n"
     ]
    }
   ],
   "source": [
    "dataarr=[]\n",
    "with open('ShapeDataset.csv') as f:\n",
    "    for line in f:\n",
    "        dataarr.append(line.strip().split(','))\n",
    "rows=len(dataarr)\n",
    "cols=len(dataarr[0])\n",
    "shypo=['0']*(cols-1)\n",
    "ghypo=[['?']*(cols-1)]\n",
    "nu = [['?']*(cols-1)]\n",
    "print(\"initial specific hypothesis is: \",shypo)\n",
    "print(\"initial general hypothesis is: \",ghypo)\n",
    "for x in range(0,rows):\n",
    "    lst=dataarr[x]\n",
    "    if lst[-1]==\"Yes\":\n",
    "        for i in range(0,cols-1):\n",
    "            if shypo[i]==lst[i]:\n",
    "                continue\n",
    "            shypo[i]='?' if shypo[i]!='0' else lst[i]\n",
    "            for g in ghypo:\n",
    "                if g[i]!='?' and shypo[i]=='?':\n",
    "                    ghypo.remove(g)\n",
    "    elif lst[-1]==\"No\":\n",
    "        for i in range(cols-1):\n",
    "            if lst[i]!=shypo[i] and shypo[i]!='?':\n",
    "                temp_list=['?']*i+[shypo[i]]+(['?']*(cols-2-i))\n",
    "                if temp_list not in ghypo:\n",
    "                    if len(set(temp_list)) != 1:\n",
    "                        ghypo.append(temp_list)\n",
    "    print(f\"S{[x]}=\",shypo)\n",
    "    print(f\"G{[x]}=\",ghypo)\n",
    "if len(set(ghypo[0])) == 1:\n",
    "    ghypo.remove(['?', '?', '?'])\n",
    "print(\"\\nFinal hypothesis is: \",shypo)\n",
    "print(f\"G{[x]}=\",ghypo)"
   ]
  }
 ],
 "metadata": {
  "kernelspec": {
   "display_name": "Python 3",
   "language": "python",
   "name": "python3"
  },
  "language_info": {
   "codemirror_mode": {
    "name": "ipython",
    "version": 3
   },
   "file_extension": ".py",
   "mimetype": "text/x-python",
   "name": "python",
   "nbconvert_exporter": "python",
   "pygments_lexer": "ipython3",
   "version": "3.8.5"
  }
 },
 "nbformat": 4,
 "nbformat_minor": 4
}
