{
 "cells": [
  {
   "cell_type": "code",
   "execution_count": 9,
   "metadata": {},
   "outputs": [
    {
     "name": "stdout",
     "output_type": "stream",
     "text": [
      "['Size', 'color', 'shape', 'class']\n",
      "['Big', 'Red', 'Circle', 'No']\n",
      "['Small', 'Red', 'Triangle', 'No']\n",
      "['Small', 'Red', 'Circle', 'Yes']\n",
      "['Big', 'Blue', 'Circle', 'No']\n",
      "['Small', 'Blue', 'Circle', 'Yes']\n",
      "The max specific hypothesis is:\n",
      "['Small', '?', 'Circle']\n"
     ]
    }
   ],
   "source": [
    "import csv\n",
    "\n",
    "with open('ShapeDataset.csv','r') as f:\n",
    "    reader = csv.reader(f)\n",
    "    header = next(reader)\n",
    "    print(header)\n",
    "    my_list = list(reader)\n",
    "cols = len(my_list[0])\n",
    "h = [['0']*(cols-1)]\n",
    "for li in my_list:\n",
    "    print(li)\n",
    "    if li[-1] == \"Yes\":\n",
    "        j = 0\n",
    "        for row_ele in li:\n",
    "            if row_ele != \"Yes\":\n",
    "                if row_ele != h[0][j] and h[0][j] == \"0\":\n",
    "                    h[0][j] = row_ele\n",
    "                elif row_ele != h[0][j] and h[0][j] != \"0\":\n",
    "                    h[0][j] = \"?\"\n",
    "                else:\n",
    "                    pass\n",
    "            j = j+1\n",
    "print(\"The max specific hypothesis is:\")\n",
    "print(h[0])\n",
    "        "
   ]
  },
  {
   "cell_type": "code",
   "execution_count": null,
   "metadata": {},
   "outputs": [],
   "source": []
  }
 ],
 "metadata": {
  "kernelspec": {
   "display_name": "Python 3",
   "language": "python",
   "name": "python3"
  },
  "language_info": {
   "codemirror_mode": {
    "name": "ipython",
    "version": 3
   },
   "file_extension": ".py",
   "mimetype": "text/x-python",
   "name": "python",
   "nbconvert_exporter": "python",
   "pygments_lexer": "ipython3",
   "version": "3.8.5"
  }
 },
 "nbformat": 4,
 "nbformat_minor": 4
}
